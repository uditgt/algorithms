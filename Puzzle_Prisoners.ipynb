{
 "cells": [
  {
   "cell_type": "markdown",
   "metadata": {},
   "source": [
    "## Puzzle Overview:\n",
    "* 100 prisoners numbered 1-100\n",
    "* Slips with their numbers are randomly places in 100 boxes in a room\n",
    "* Each prisoner may enter the room one at a time and check 50 boxes\n",
    "* They must leave the room exactly as they found it and can't communicate with the others after\n",
    "* If all 100 prisoners find their number during their turn in the room, they will all be free. But if even one fails, they will be executed.   \n",
    "    "
   ]
  },
  {
   "cell_type": "code",
   "execution_count": 1,
   "metadata": {},
   "outputs": [],
   "source": [
    "import numpy as np\n",
    "import matplotlib.pyplot as plt\n",
    "import random"
   ]
  },
  {
   "cell_type": "code",
   "execution_count": 2,
   "metadata": {},
   "outputs": [],
   "source": [
    "num = 100\n",
    "boxes_to_open = 50\n",
    "prisoners = np.zeros(num) # records which prisoner found his slip (1) and which didn't (0)"
   ]
  },
  {
   "cell_type": "code",
   "execution_count": 3,
   "metadata": {},
   "outputs": [],
   "source": [
    "# Creating 100 boxes each with a random slip inside\n",
    "def box_assignment_secret(num):\n",
    "    boxes = np.array(random.sample(range(num), num))\n",
    "    return boxes"
   ]
  },
  {
   "cell_type": "code",
   "execution_count": 4,
   "metadata": {},
   "outputs": [
    {
     "data": {
      "text/plain": [
       "(0, 99, array([36, 73, 49,  0, 10]))"
      ]
     },
     "execution_count": 4,
     "metadata": {},
     "output_type": "execute_result"
    }
   ],
   "source": [
    "# Test run\n",
    "boxes = box_assignment_secret(num)\n",
    "boxes.min(), boxes.max(), boxes[:5]"
   ]
  },
  {
   "cell_type": "code",
   "execution_count": 5,
   "metadata": {},
   "outputs": [],
   "source": [
    "def strategy_random(prisoners, boxes, boxes_to_open=50):\n",
    "    n = len(prisoners)\n",
    "    \n",
    "    for px in range(n):\n",
    "        boxes_selected = np.array(random.sample(range(n), boxes_to_open))\n",
    "        slips_seen = boxes[boxes_selected]\n",
    "        \n",
    "        # If one of the slips matches prisoner's index, then True/1 else False/0\n",
    "        prisoners[px] = int((slips_seen == px).any())\n",
    "    \n",
    "    return prisoners, prisoners.sum()"
   ]
  },
  {
   "cell_type": "code",
   "execution_count": 6,
   "metadata": {},
   "outputs": [
    {
     "data": {
      "text/plain": [
       "49.0"
      ]
     },
     "execution_count": 6,
     "metadata": {},
     "output_type": "execute_result"
    }
   ],
   "source": [
    "# Test run\n",
    "result_per_prisoner, total_success = strategy_random(prisoners, boxes, boxes_to_open)\n",
    "total_success"
   ]
  },
  {
   "cell_type": "code",
   "execution_count": 7,
   "metadata": {},
   "outputs": [],
   "source": [
    "def strategy_sequential(prisoners, boxes, boxes_to_open=50):\n",
    "    n = len(prisoners)\n",
    "    boxes_selected = np.zeros((n,boxes_to_open))+(-1)  # to avoid 0\n",
    "    slips_seen = np.zeros((n,boxes_to_open))\n",
    "        \n",
    "    for px in range(n):                \n",
    "        \n",
    "        # Start by opening the Box number same as prisoner number\n",
    "        box_to_open = px #random.sample(range(n), 1)[0]\n",
    "        \n",
    "        for bx in range(boxes_to_open):\n",
    "            \n",
    "            # print('Prisoner #:',px, ' selection number:',bx, 'box number:', box_to_open)\n",
    "            \n",
    "            # if the next box_to_open has already been opened before, loop end. \n",
    "            # Pick next one to start another loop.\n",
    "            while (box_to_open==boxes_selected[px,:]).any():\n",
    "                box_to_open = (box_to_open+1) % num\n",
    "                \n",
    "                # if bx==boxes_to_open-1: # edge case - when boxes to be selected is same as number of boxes\n",
    "                #    break                # then any number will repeat becaues all boxes have been selected.\n",
    "                 \n",
    "            slip_num = boxes[box_to_open]\n",
    "            slips_seen[px,bx] = slip_num\n",
    "            \n",
    "            boxes_selected[px,bx] = box_to_open\n",
    "            box_to_open = slip_num\n",
    "        \n",
    "        # True/1 is prisoner sees his slip in the boxes opened, 0 otherwise\n",
    "        prisoners[px] = int((slips_seen[px,:] == px).any())\n",
    "    \n",
    "    return prisoners, prisoners.sum(), boxes_selected, slips_seen"
   ]
  },
  {
   "cell_type": "code",
   "execution_count": 8,
   "metadata": {},
   "outputs": [
    {
     "data": {
      "text/plain": [
       "100.0"
      ]
     },
     "execution_count": 8,
     "metadata": {},
     "output_type": "execute_result"
    }
   ],
   "source": [
    "# Test run\n",
    "result_per_prisoner, total_success, boxes_selected, slips_seen = strategy_sequential(prisoners, boxes, boxes_to_open)\n",
    "total_success"
   ]
  },
  {
   "cell_type": "code",
   "execution_count": 9,
   "metadata": {},
   "outputs": [],
   "source": [
    "# i = 1"
   ]
  },
  {
   "cell_type": "code",
   "execution_count": 10,
   "metadata": {},
   "outputs": [],
   "source": [
    "# boxes"
   ]
  },
  {
   "cell_type": "code",
   "execution_count": 11,
   "metadata": {},
   "outputs": [],
   "source": [
    "# boxes_selected[i,:]"
   ]
  },
  {
   "cell_type": "code",
   "execution_count": 12,
   "metadata": {},
   "outputs": [],
   "source": [
    "# slips_seen[i,:]"
   ]
  },
  {
   "cell_type": "code",
   "execution_count": 13,
   "metadata": {},
   "outputs": [],
   "source": [
    "# np.argmax((boxes_selected[i,0]==slips_seen[i,:]).astype(int))  # non-zero means, first loop was completed"
   ]
  },
  {
   "cell_type": "markdown",
   "metadata": {},
   "source": [
    "## Run the experiment multiple times"
   ]
  },
  {
   "cell_type": "markdown",
   "metadata": {},
   "source": [
    "### Strategy 1 - Pick 50 boxes at random vs. Strategy 2 - Pick 50 boxes in sequential order"
   ]
  },
  {
   "cell_type": "code",
   "execution_count": 14,
   "metadata": {},
   "outputs": [],
   "source": [
    "sims = 10**3"
   ]
  },
  {
   "cell_type": "code",
   "execution_count": 15,
   "metadata": {},
   "outputs": [],
   "source": [
    "results_1 = np.zeros(sims)\n",
    "results_2 = np.zeros(sims)\n",
    "\n",
    "for i in range(sims):\n",
    "    boxes = box_assignment_secret(num)\n",
    "    \n",
    "    # Results using strategy 1\n",
    "    _, results_1[i] = strategy_random(prisoners, boxes, boxes_to_open)\n",
    "    \n",
    "    # Results using strategy 2\n",
    "    _, results_2[i], _, _ = strategy_sequential(prisoners, boxes, boxes_to_open)    "
   ]
  },
  {
   "cell_type": "code",
   "execution_count": 16,
   "metadata": {},
   "outputs": [
    {
     "name": "stdout",
     "output_type": "stream",
     "text": [
      "Strategy 1: number of times all prisoners got their number:  0.0\n"
     ]
    },
    {
     "data": {
      "image/png": "[encoded data removed]",
      "text/plain": [
       "<Figure size 432x288 with 1 Axes>"
      ]
     },
     "metadata": {
      "needs_background": "light"
     },
     "output_type": "display_data"
    }
   ],
   "source": [
    "print('Strategy 1: number of times all prisoners got their number: ', (results_1 == num).mean())\n",
    "plt.hist(results_1, bins=20);"
   ]
  },
  {
   "cell_type": "code",
   "execution_count": 17,
   "metadata": {},
   "outputs": [
    {
     "name": "stdout",
     "output_type": "stream",
     "text": [
      "Strategy 2: number of times all prisoners got their number:  0.311\n"
     ]
    },
    {
     "data": {
      "image/png": "[encoded data removed]",
      "text/plain": [
       "<Figure size 432x288 with 1 Axes>"
      ]
     },
     "metadata": {
      "needs_background": "light"
     },
     "output_type": "display_data"
    }
   ],
   "source": [
    "print('Strategy 2: number of times all prisoners got their number: ', (results_2 == num).mean())\n",
    "plt.hist(results_2, bins=20);"
   ]
  },
  {
   "cell_type": "code",
   "execution_count": null,
   "metadata": {},
   "outputs": [],
   "source": []
  }
 ],
 "metadata": {
  "kernelspec": {
   "display_name": "Python 3 (ipykernel)",
   "language": "python",
   "name": "python3"
  },
  "language_info": {
   "codemirror_mode": {
    "name": "ipython",
    "version": 3
   },
   "file_extension": ".py",
   "mimetype": "text/x-python",
   "name": "python",
   "nbconvert_exporter": "python",
   "pygments_lexer": "ipython3",
   "version": "3.8.5"
  }
 },
 "nbformat": 4,
 "nbformat_minor": 4
}
